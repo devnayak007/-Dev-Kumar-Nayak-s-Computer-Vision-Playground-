{
 "cells": [
  {
   "cell_type": "markdown",
   "id": "e25f8005",
   "metadata": {},
   "source": [
    "# Importing The Dependancies"
   ]
  },
  {
   "cell_type": "code",
   "execution_count": 1,
   "id": "c591d5dd",
   "metadata": {},
   "outputs": [],
   "source": [
    "import cv2\n",
    "import numpy as np\n",
    "import matplotlib.pyplot as plt\n"
   ]
  },
  {
   "cell_type": "code",
   "execution_count": 17,
   "id": "743ef7c0",
   "metadata": {},
   "outputs": [],
   "source": [
    "ball=[]\n",
    "cap = cv2.VideoCapture(r\"C:\\Users\\devna\\Documents\\ML Projects\\Image Processing\\video.mp4\")\n",
    "out=cv2.VideoWriter('output1.avi',cv2.VideoWriter_fourcc('M','J','P','G'),10,(1920,1080))\n",
    "while cap.isOpened():\n",
    "    ret,frame = cap.read()\n",
    "    if ret is False:\n",
    "        break\n",
    "    hsv = cv2.cvtColor(frame , cv2.COLOR_BGR2HSV)\n",
    "    lower_hue = np.array([21,0,0])\n",
    "    upper_hue = np.array([45,255,255])\n",
    "    mask = cv2.inRange(hsv,lower_hue,upper_hue)\n",
    "    \n",
    "    (contours,_) = cv2.findContours(mask,cv2.RETR_TREE,cv2.CHAIN_APPROX_SIMPLE)\n",
    "    \n",
    "    center = None\n",
    "    if len(contours)>0:\n",
    "        C = max(contours , key= cv2.contourArea)\n",
    "        ((x,y),radius) = cv2.minEnclosingCircle(C)\n",
    "        M = cv2.moments(C)\n",
    "        try:\n",
    "            center = (int(M[\"m10\"]/M[\"m00\"]), int(M[\"m01\"]/M[\"m00\"]))\n",
    "            cv2.circle(frame,center,10,(255,0,0),-1)\n",
    "            ball.append(center)\n",
    "        except:\n",
    "            pass\n",
    "            if len(ball)>2:\n",
    "                for i in range (1,len(ball)):\n",
    "                    cv2.line(frame,ball[i-1],ball[i],(255,0,0),5)\n",
    "                    \n",
    "        out.write(frame)\n",
    "out.release()\n",
    "                        \n",
    "                "
   ]
  },
  {
   "cell_type": "code",
   "execution_count": null,
   "id": "204cb53a",
   "metadata": {},
   "outputs": [],
   "source": []
  }
 ],
 "metadata": {
  "kernelspec": {
   "display_name": "Python 3 (ipykernel)",
   "language": "python",
   "name": "python3"
  },
  "language_info": {
   "codemirror_mode": {
    "name": "ipython",
    "version": 3
   },
   "file_extension": ".py",
   "mimetype": "text/x-python",
   "name": "python",
   "nbconvert_exporter": "python",
   "pygments_lexer": "ipython3",
   "version": "3.10.9"
  }
 },
 "nbformat": 4,
 "nbformat_minor": 5
}
